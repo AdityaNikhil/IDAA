{
  "cells": [
    {
      "cell_type": "markdown",
      "metadata": {
        "id": "kColukH99ObW"
      },
      "source": [
        "Install Libraries"
      ]
    },
    {
      "cell_type": "code",
      "execution_count": null,
      "metadata": {
        "colab": {
          "base_uri": "https://localhost:8080/"
        },
        "id": "UOWGycsa8390",
        "outputId": "05b9f2ab-befa-4fce-e1ed-91a2eb0086ba"
      },
      "outputs": [],
      "source": [
        "# !pip install langchain langchain-core langchain-community langgraph pydantic PyYAML pdfplumber faiss-cpu sentence-transformers streamlit pandas"
      ]
    },
    {
      "cell_type": "markdown",
      "metadata": {
        "id": "2SHX_FlY9YTW"
      },
      "source": [
        "Setup Imports & Configuration"
      ]
    },
    {
      "cell_type": "code",
      "execution_count": null,
      "metadata": {
        "colab": {
          "base_uri": "https://localhost:8080/"
        },
        "id": "NX-nmDO7_B1h",
        "outputId": "c71c54c0-343c-4f72-e5b1-6d3da331132b"
      },
      "outputs": [],
      "source": [
        "# !pip install langchain-groq"
      ]
    },
    {
      "cell_type": "code",
      "execution_count": 3,
      "metadata": {
        "colab": {
          "base_uri": "https://localhost:8080/"
        },
        "id": "SNght_bU9S4L",
        "outputId": "7ac05f2b-0441-4b50-9c64-46497e2b16f1"
      },
      "outputs": [
        {
          "name": "stderr",
          "output_type": "stream",
          "text": [
            "/usr/local/lib/python3.11/dist-packages/huggingface_hub/utils/_auth.py:94: UserWarning: \n",
            "The secret `HF_TOKEN` does not exist in your Colab secrets.\n",
            "To authenticate with the Hugging Face Hub, create a token in your settings tab (https://huggingface.co/settings/tokens), set it as secret in your Google Colab and restart your session.\n",
            "You will be able to reuse this secret in all of your notebooks.\n",
            "Please note that authentication is recommended but still optional to access public models or datasets.\n",
            "  warnings.warn(\n"
          ]
        },
        {
          "name": "stdout",
          "output_type": "stream",
          "text": [
            "Advisor System Prompt Loaded Successfully!\n"
          ]
        }
      ],
      "source": [
        "import pdfplumber\n",
        "import faiss\n",
        "import numpy as np\n",
        "from sentence_transformers import SentenceTransformer\n",
        "from langchain.text_splitter import CharacterTextSplitter\n",
        "from langchain.prompts.chat import ChatPromptTemplate\n",
        "from langchain_groq import ChatGroq\n",
        "from google.colab import files\n",
        "import yaml\n",
        "import os\n",
        "\n",
        "# Initialize the FAISS vector store\n",
        "embedding_model = SentenceTransformer(\"all-MiniLM-L6-v2\")\n",
        "\n",
        "# File paths\n",
        "index_file = \"index.faiss\"\n",
        "chunks_file = \"chunks.txt\"\n",
        "\n",
        "# Cryptocurrency-related keywords (need to add more terms if possible)\n",
        "CRYPTO_KEYWORDS = {\"crypto\", \"cryptocurrency\", \"bitcoin\", \"ethereum\", \"blockchain\", \"web3\",\n",
        "                   \"decentralized\", \"mining\", \"token\", \"NFT\", \"stablecoin\", \"defi\", \"ledger\"}\n",
        "\n",
        "# Load the system prompt from advisor_prompts.yml file\n",
        "def load_system_prompt():\n",
        "    with open(\"advisor_prompts.yml\", \"r\") as file:\n",
        "        config = yaml.safe_load(file)\n",
        "    return config[\"system_prompts\"][\"advisor_llm\"][\"description\"]\n",
        "\n",
        "# Fetch the advisor-specific system prompt\n",
        "ADVISOR_SYS_PROMPT = load_system_prompt()\n",
        "print(\"Advisor System Prompt Loaded Successfully!\")\n",
        "\n",
        "# My Groq API Key\n",
        "os.environ[\"GROQ_API_KEY\"] = \"API_KEY\""
      ]
    },
    {
      "cell_type": "markdown",
      "metadata": {
        "id": "5eNqh8lc9gwz"
      },
      "source": [
        "PDF Extraction & Processing"
      ]
    },
    {
      "cell_type": "code",
      "execution_count": 4,
      "metadata": {
        "id": "-CrHGwe_9fai"
      },
      "outputs": [],
      "source": [
        "def extract_and_store_text(pdf_path):\n",
        "    \"\"\"Extract and store PDF text if it matches the cryptocurrency topic.\"\"\"\n",
        "    text = \"\"\n",
        "    with pdfplumber.open(pdf_path) as pdf:\n",
        "        for page in pdf.pages:\n",
        "            page_text = page.extract_text()\n",
        "            if page_text:\n",
        "                text += page_text + \"\\n\"\n",
        "\n",
        "    # Check for cryptocurrency-related keywords\n",
        "    if not any(keyword in text.lower() for keyword in CRYPTO_KEYWORDS):\n",
        "        raise ValueError(\"PDF content does not match the required topic: Cryptocurrency\")\n",
        "\n",
        "    # Split text into chunks\n",
        "    text_splitter = CharacterTextSplitter(chunk_size=500, chunk_overlap=50)\n",
        "    chunks = text_splitter.split_text(text)\n",
        "\n",
        "    # Generate embeddings\n",
        "    embeddings = embedding_model.encode(chunks)\n",
        "    embeddings = np.array(embeddings, dtype=np.float32)\n",
        "\n",
        "    # Create FAISS index\n",
        "    dimension = embeddings.shape[1]\n",
        "    index = faiss.IndexFlatL2(dimension)\n",
        "    index.add(embeddings)\n",
        "\n",
        "    # Save the FAISS index\n",
        "    faiss.write_index(index, index_file)\n",
        "\n",
        "    # Save the text chunks\n",
        "    with open(chunks_file, \"w\") as f:\n",
        "        for chunk in chunks:\n",
        "            f.write(chunk + \"\\n\")\n",
        "\n",
        "    print(\"Cryptocurrency-related PDF processed successfully.\")"
      ]
    },
    {
      "cell_type": "markdown",
      "metadata": {
        "id": "NDq5NKiJ9rnI"
      },
      "source": [
        "Upload & Process PDF"
      ]
    },
    {
      "cell_type": "code",
      "execution_count": 5,
      "metadata": {
        "colab": {
          "base_uri": "https://localhost:8080/",
          "height": 107
        },
        "id": "4zqtEHqU9oaL",
        "outputId": "b12a627a-4236-4518-ac9f-b32e99208c50"
      },
      "outputs": [
        {
          "name": "stdout",
          "output_type": "stream",
          "text": [
            "Please upload a PDF related to cryptocurrency.\n"
          ]
        },
        {
          "data": {
            "text/html": [
              "\n",
              "     <input type=\"file\" id=\"files-f1c623ac-fbf3-4bdb-b835-c6f00f66ae37\" name=\"files[]\" multiple disabled\n",
              "        style=\"border:none\" />\n",
              "     <output id=\"result-f1c623ac-fbf3-4bdb-b835-c6f00f66ae37\">\n",
              "      Upload widget is only available when the cell has been executed in the\n",
              "      current browser session. Please rerun this cell to enable.\n",
              "      </output>\n",
              "      <script>// Copyright 2017 Google LLC\n",
              "//\n",
              "// Licensed under the Apache License, Version 2.0 (the \"License\");\n",
              "// you may not use this file except in compliance with the License.\n",
              "// You may obtain a copy of the License at\n",
              "//\n",
              "//      http://www.apache.org/licenses/LICENSE-2.0\n",
              "//\n",
              "// Unless required by applicable law or agreed to in writing, software\n",
              "// distributed under the License is distributed on an \"AS IS\" BASIS,\n",
              "// WITHOUT WARRANTIES OR CONDITIONS OF ANY KIND, either express or implied.\n",
              "// See the License for the specific language governing permissions and\n",
              "// limitations under the License.\n",
              "\n",
              "/**\n",
              " * @fileoverview Helpers for google.colab Python module.\n",
              " */\n",
              "(function(scope) {\n",
              "function span(text, styleAttributes = {}) {\n",
              "  const element = document.createElement('span');\n",
              "  element.textContent = text;\n",
              "  for (const key of Object.keys(styleAttributes)) {\n",
              "    element.style[key] = styleAttributes[key];\n",
              "  }\n",
              "  return element;\n",
              "}\n",
              "\n",
              "// Max number of bytes which will be uploaded at a time.\n",
              "const MAX_PAYLOAD_SIZE = 100 * 1024;\n",
              "\n",
              "function _uploadFiles(inputId, outputId) {\n",
              "  const steps = uploadFilesStep(inputId, outputId);\n",
              "  const outputElement = document.getElementById(outputId);\n",
              "  // Cache steps on the outputElement to make it available for the next call\n",
              "  // to uploadFilesContinue from Python.\n",
              "  outputElement.steps = steps;\n",
              "\n",
              "  return _uploadFilesContinue(outputId);\n",
              "}\n",
              "\n",
              "// This is roughly an async generator (not supported in the browser yet),\n",
              "// where there are multiple asynchronous steps and the Python side is going\n",
              "// to poll for completion of each step.\n",
              "// This uses a Promise to block the python side on completion of each step,\n",
              "// then passes the result of the previous step as the input to the next step.\n",
              "function _uploadFilesContinue(outputId) {\n",
              "  const outputElement = document.getElementById(outputId);\n",
              "  const steps = outputElement.steps;\n",
              "\n",
              "  const next = steps.next(outputElement.lastPromiseValue);\n",
              "  return Promise.resolve(next.value.promise).then((value) => {\n",
              "    // Cache the last promise value to make it available to the next\n",
              "    // step of the generator.\n",
              "    outputElement.lastPromiseValue = value;\n",
              "    return next.value.response;\n",
              "  });\n",
              "}\n",
              "\n",
              "/**\n",
              " * Generator function which is called between each async step of the upload\n",
              " * process.\n",
              " * @param {string} inputId Element ID of the input file picker element.\n",
              " * @param {string} outputId Element ID of the output display.\n",
              " * @return {!Iterable<!Object>} Iterable of next steps.\n",
              " */\n",
              "function* uploadFilesStep(inputId, outputId) {\n",
              "  const inputElement = document.getElementById(inputId);\n",
              "  inputElement.disabled = false;\n",
              "\n",
              "  const outputElement = document.getElementById(outputId);\n",
              "  outputElement.innerHTML = '';\n",
              "\n",
              "  const pickedPromise = new Promise((resolve) => {\n",
              "    inputElement.addEventListener('change', (e) => {\n",
              "      resolve(e.target.files);\n",
              "    });\n",
              "  });\n",
              "\n",
              "  const cancel = document.createElement('button');\n",
              "  inputElement.parentElement.appendChild(cancel);\n",
              "  cancel.textContent = 'Cancel upload';\n",
              "  const cancelPromise = new Promise((resolve) => {\n",
              "    cancel.onclick = () => {\n",
              "      resolve(null);\n",
              "    };\n",
              "  });\n",
              "\n",
              "  // Wait for the user to pick the files.\n",
              "  const files = yield {\n",
              "    promise: Promise.race([pickedPromise, cancelPromise]),\n",
              "    response: {\n",
              "      action: 'starting',\n",
              "    }\n",
              "  };\n",
              "\n",
              "  cancel.remove();\n",
              "\n",
              "  // Disable the input element since further picks are not allowed.\n",
              "  inputElement.disabled = true;\n",
              "\n",
              "  if (!files) {\n",
              "    return {\n",
              "      response: {\n",
              "        action: 'complete',\n",
              "      }\n",
              "    };\n",
              "  }\n",
              "\n",
              "  for (const file of files) {\n",
              "    const li = document.createElement('li');\n",
              "    li.append(span(file.name, {fontWeight: 'bold'}));\n",
              "    li.append(span(\n",
              "        `(${file.type || 'n/a'}) - ${file.size} bytes, ` +\n",
              "        `last modified: ${\n",
              "            file.lastModifiedDate ? file.lastModifiedDate.toLocaleDateString() :\n",
              "                                    'n/a'} - `));\n",
              "    const percent = span('0% done');\n",
              "    li.appendChild(percent);\n",
              "\n",
              "    outputElement.appendChild(li);\n",
              "\n",
              "    const fileDataPromise = new Promise((resolve) => {\n",
              "      const reader = new FileReader();\n",
              "      reader.onload = (e) => {\n",
              "        resolve(e.target.result);\n",
              "      };\n",
              "      reader.readAsArrayBuffer(file);\n",
              "    });\n",
              "    // Wait for the data to be ready.\n",
              "    let fileData = yield {\n",
              "      promise: fileDataPromise,\n",
              "      response: {\n",
              "        action: 'continue',\n",
              "      }\n",
              "    };\n",
              "\n",
              "    // Use a chunked sending to avoid message size limits. See b/62115660.\n",
              "    let position = 0;\n",
              "    do {\n",
              "      const length = Math.min(fileData.byteLength - position, MAX_PAYLOAD_SIZE);\n",
              "      const chunk = new Uint8Array(fileData, position, length);\n",
              "      position += length;\n",
              "\n",
              "      const base64 = btoa(String.fromCharCode.apply(null, chunk));\n",
              "      yield {\n",
              "        response: {\n",
              "          action: 'append',\n",
              "          file: file.name,\n",
              "          data: base64,\n",
              "        },\n",
              "      };\n",
              "\n",
              "      let percentDone = fileData.byteLength === 0 ?\n",
              "          100 :\n",
              "          Math.round((position / fileData.byteLength) * 100);\n",
              "      percent.textContent = `${percentDone}% done`;\n",
              "\n",
              "    } while (position < fileData.byteLength);\n",
              "  }\n",
              "\n",
              "  // All done.\n",
              "  yield {\n",
              "    response: {\n",
              "      action: 'complete',\n",
              "    }\n",
              "  };\n",
              "}\n",
              "\n",
              "scope.google = scope.google || {};\n",
              "scope.google.colab = scope.google.colab || {};\n",
              "scope.google.colab._files = {\n",
              "  _uploadFiles,\n",
              "  _uploadFilesContinue,\n",
              "};\n",
              "})(self);\n",
              "</script> "
            ],
            "text/plain": [
              "<IPython.core.display.HTML object>"
            ]
          },
          "metadata": {},
          "output_type": "display_data"
        },
        {
          "name": "stdout",
          "output_type": "stream",
          "text": [
            "Saving s40854-021-00321-6.pdf to s40854-021-00321-6.pdf\n",
            "Cryptocurrency-related PDF processed successfully.\n"
          ]
        }
      ],
      "source": [
        "print(\"Please upload a PDF related to cryptocurrency.\")\n",
        "uploaded = files.upload()\n",
        "\n",
        "# Process the uploaded PDF\n",
        "pdf_path = list(uploaded.keys())[0]\n",
        "try:\n",
        "    extract_and_store_text(pdf_path)\n",
        "except ValueError as ve:\n",
        "    print(f\"Error: {ve}\")\n",
        "except Exception as e:\n",
        "    print(f\"Unexpected error: {e}\")"
      ]
    },
    {
      "cell_type": "markdown",
      "metadata": {
        "id": "5FUHBhDs90hn"
      },
      "source": [
        "Retrieve Relevant Context"
      ]
    },
    {
      "cell_type": "code",
      "execution_count": 6,
      "metadata": {
        "id": "wTKAnKDI9wwv"
      },
      "outputs": [],
      "source": [
        "def retrieve_relevant_chunks(query, top_k=3):\n",
        "    \"\"\"Retrieve the top-k most relevant text chunks from FAISS.\"\"\"\n",
        "    if not os.path.exists(index_file):\n",
        "        raise FileNotFoundError(\"FAISS index not found. Please upload a valid PDF first.\")\n",
        "\n",
        "    # Load FAISS index\n",
        "    index = faiss.read_index(index_file)\n",
        "\n",
        "    # Generate the query embedding\n",
        "    query_embedding = embedding_model.encode([query])\n",
        "    query_embedding = np.array(query_embedding, dtype=np.float32)\n",
        "\n",
        "    # Search the FAISS index\n",
        "    distances, indices = index.search(query_embedding, top_k)\n",
        "\n",
        "    # Retrieve the corresponding text chunks\n",
        "    with open(chunks_file, \"r\") as f:\n",
        "        text_chunks = f.readlines()\n",
        "\n",
        "    retrieved_chunks = [text_chunks[i].strip() for i in indices[0] if i < len(text_chunks)]\n",
        "\n",
        "    return retrieved_chunks"
      ]
    },
    {
      "cell_type": "markdown",
      "metadata": {
        "id": "NEef4Y_U96Qn"
      },
      "source": [
        "Query the Advisor Agent (Groq API)"
      ]
    },
    {
      "cell_type": "code",
      "execution_count": 7,
      "metadata": {
        "id": "KA6bVDa499QB"
      },
      "outputs": [],
      "source": [
        "def query_advisor(query):\n",
        "    \"\"\"Generate a response from the advisor agent using FAISS-based context and Groq API.\"\"\"\n",
        "    try:\n",
        "        # Retrieve context\n",
        "        retrieved_chunks = retrieve_relevant_chunks(query)\n",
        "        context = \"\\n\".join(retrieved_chunks) if retrieved_chunks else \"No relevant context found.\"\n",
        "\n",
        "        # Construct the chat prompt with the strict cryptocurrency-only system prompt\n",
        "        advisor_prompt = ChatPromptTemplate.from_messages([\n",
        "            (\"system\", ADVISOR_SYS_PROMPT),\n",
        "            (\"human\", f\"Context: {context}\\n\\nUser Query: {query}\")\n",
        "        ])\n",
        "\n",
        "        # Initialize Groq LLM with the correct model\n",
        "        groq_api_key = os.getenv(\"GROQ_API_KEY\")\n",
        "        llm = ChatGroq(model=\"mixtral-8x7b-32768\", api_key=groq_api_key)\n",
        "\n",
        "        # Generate response using LangChain LLM\n",
        "        response = advisor_prompt | llm\n",
        "        result = response.invoke({})\n",
        "\n",
        "        # Ensure the response is not mixed and only provides relevant output\n",
        "        response_text = result.content.strip()\n",
        "        if \"I'm sorry\" in response_text and \"cryptocurrencies, digital assets\" not in response_text:\n",
        "            return \"I'm sorry, I can only answer questions related to cryptocurrencies, or digital assets. Please ask a relevant question.\"\n",
        "\n",
        "        return response_text\n",
        "\n",
        "    except Exception as e:\n",
        "        return f\"An error occurred: {e}\"\n"
      ]
    },
    {
      "cell_type": "markdown",
      "metadata": {
        "id": "p-7mEJmj-Dbi"
      },
      "source": [
        "Run the Advisor Agent"
      ]
    },
    {
      "cell_type": "code",
      "execution_count": 11,
      "metadata": {
        "colab": {
          "base_uri": "https://localhost:8080/"
        },
        "id": "rJJVoXLM1mKz",
        "outputId": "9fb0ddca-a0a5-43a4-8d43-e613392b57ba"
      },
      "outputs": [
        {
          "name": "stdout",
          "output_type": "stream",
          "text": [
            "Ask the Advisor Agent a question: How should a beginner allocate their crypto portfolio?\n",
            "Allocating a crypto portfolio depends on individual risk tolerance, investment goals, and financial situation. However, a common beginner strategy is the \"60-30-10 rule\":\n",
            "\n",
            "1. 60% in large-cap cryptocurrencies (e.g., Bitcoin, Ethereum) for stability and growth potential.\n",
            "2. 30% in mid-cap and small-cap cryptocurrencies for higher growth potential and diversification.\n",
            "3. 10% in stablecoins (e.g., USDC, DAI) or savings accounts for short-term liquidity and reducing portfolio volatility.\n",
            "\n",
            "This allocation can be adjusted based on market conditions and personal preferences. It's crucial for beginners to perform thorough research, use reputable exchanges, and follow sound risk management practices.\n",
            "\n",
            "Note: This response does not constitute personal financial advice and should be used as a starting point for further research and personalized portfolio allocation.\n"
          ]
        }
      ],
      "source": [
        "user_question = input(\"Ask the Advisor Agent a question: \")\n",
        "response = query_advisor(user_question)\n",
        "print(response)"
      ]
    }
  ],
  "metadata": {
    "colab": {
      "provenance": []
    },
    "kernelspec": {
      "display_name": "Python 3",
      "name": "python3"
    },
    "language_info": {
      "name": "python"
    }
  },
  "nbformat": 4,
  "nbformat_minor": 0
}
